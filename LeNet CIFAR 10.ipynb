{
 "cells": [
  {
   "cell_type": "code",
   "execution_count": null,
   "metadata": {},
   "outputs": [],
   "source": [
    "from os.path import exists\n",
    "from wheel.pep425tags import get_abbr_impl, get_impl_ver, get_abi_tag\n",
    "import torch\n",
    "import torchvision\n",
    "import torch.nn as nn\n",
    "from torch.utils.data import DataLoader\n",
    "from torchvision import transforms\n",
    "import numpy as np\n",
    "from sklearn.preprocessing import scale\n",
    "from torch.optim.lr_scheduler import StepLR"
   ]
  },
  {
   "cell_type": "code",
   "execution_count": null,
   "metadata": {},
   "outputs": [],
   "source": [
    "class LeNet(nn.Module):\n",
    "    \"\"\"\n",
    "    X = к-во входных каналов\n",
    "    \n",
    "    Input - Xx32x32\n",
    "    Conv1 - 6 фильтров, 5x5 ядро\n",
    "    ReLU\n",
    "    Pool2 - 6 фильтров, 2х2 ядро отступ 2\n",
    "    Conv3 - 16 фильтров 5x5 ядро\n",
    "    ReLU\n",
    "    Pool4 - 16  фильтров, 2х2 ядро отступ 2\n",
    "    Conv5 - 120 фильтров,  5x5 ядро\n",
    "    F6 - 84\n",
    "    ReLU\n",
    "    F7 - 10 \n",
    "    \"\"\"\n",
    "    def __init__(self, in_channel = 1):\n",
    "        super(LeNet, self).__init__()\n",
    "        self.conv1 = nn.Conv2d(in_channel, 6,5 )\n",
    "        self.relu = nn.ReLU()\n",
    "        self.pool2 = nn.MaxPool2d(2,stride = 2)\n",
    "        self.conv3 = nn.Conv2d(6, 16, 5)\n",
    "        self.pool4 = nn.MaxPool2d(2, stride = 2)\n",
    "        self.conv5 = nn.Conv2d(16, 120, 5)\n",
    "        self.f6 = nn.Linear(120, 84)\n",
    "        self.f7 = nn.Linear(84, 10)\n",
    "    \n",
    "    def forward(self,x):\n",
    "        result = self.relu(self.conv1(x))\n",
    "        result = self.relu(self.conv3(self.pool2(result)))\n",
    "        result = self.conv5(self.pool4(result))\n",
    "        result = result.view(-1, 120)\n",
    "        result = self.f7(self.relu(self.f6(result)))\n",
    "        return result\n",
    "LeNet(3)"
   ]
  },
  {
   "cell_type": "code",
   "execution_count": null,
   "metadata": {},
   "outputs": [],
   "source": [
    "data_train = torchvision.datasets.CIFAR10('./pytorch_data/cifar10', \n",
    "                                          download=True, \n",
    "                                          transform=transforms.Compose([transforms.Resize((32,32)), \n",
    "                                                                        transforms.ToTensor()]))\n",
    "    \n",
    "data_test = torchvision.datasets.CIFAR10('./pytorch_data/cifar10', \n",
    "                                         train=False, \n",
    "                                         download=True, \n",
    "                                         transform=transforms.Compose([transforms.Resize((32,32)), \n",
    "                                                                       transforms.ToTensor()]))\n",
    "\n",
    "data_train_loader = DataLoader(data_train, batch_size=128, shuffle=True, num_workers=8)\n",
    "data_test_loader = DataLoader(data_test, batch_size=128, num_workers=8)"
   ]
  },
  {
   "cell_type": "code",
   "execution_count": null,
   "metadata": {},
   "outputs": [],
   "source": [
    "device = (\"cuda:0\" if torch.cuda.is_available() else \"cpu\")\n",
    "\n",
    "def accuracy(output,labels):\n",
    "    predictions = torch.argmax(output,dim=1)\n",
    "    correct = (predictions == labels).sum().cpu().numpy()\n",
    "    return correct / len(labels)\n",
    "\n",
    "loss_func = torch.nn.CrossEntropyLoss()\n",
    "\n",
    "EPOCH_SIZE = 20\n",
    "device = torch.device('cuda:0' if torch.cuda else 'cpu')\n",
    "\n",
    "model = LeNet(3)\n",
    "\n",
    "optimizer = torch.optim.SGD(model.parameters(), lr=1e-2, nesterov = True, momentum = 0.9)"
   ]
  },
  {
   "cell_type": "code",
   "execution_count": null,
   "metadata": {},
   "outputs": [],
   "source": [
    "model.train()\n",
    "for epoch in range(EPOCH_SIZE):\n",
    "    for itr,data in enumerate(data_train_loader):\n",
    "        imgs = data[0]\n",
    "        labels = data[1]\n",
    "\n",
    "    \n",
    "        y_pred = model.forward(imgs)\n",
    "\n",
    "        optimizer.zero_grad()\n",
    "    \n",
    "        loss = loss_func(y_pred,labels)\n",
    "        if itr%100 == 0:\n",
    "            print('Iteration {}, train accuracy {:.2f}, loss {:.4f}'.format(itr+epoch*len(data_train_loader),accuracy(y_pred,labels),loss))\n",
    "      \n",
    "        loss.backward()\n",
    "    \n",
    "        optimizer.step()"
   ]
  },
  {
   "cell_type": "code",
   "execution_count": null,
   "metadata": {},
   "outputs": [],
   "source": [
    "model.eval()\n",
    "\n",
    "with torch.no_grad():\n",
    "  accuracy_list = []\n",
    "  for itr,data in enumerate(data_test_loader):\n",
    "    imgs = data[0]\n",
    "    labels = data[1]\n",
    "    \n",
    "    y_pred = model.forward(imgs)\n",
    "    accuracy_list.append(accuracy(y_pred,labels))\n",
    "\n",
    "print('Test accuracy - {:.2f}'.format(np.sum(accuracy_list)/len(accuracy_list)))"
   ]
  }
 ],
 "metadata": {
  "kernelspec": {
   "display_name": "Python 3",
   "language": "python",
   "name": "python3"
  },
  "language_info": {
   "codemirror_mode": {
    "name": "ipython",
    "version": 3
   },
   "file_extension": ".py",
   "mimetype": "text/x-python",
   "name": "python",
   "nbconvert_exporter": "python",
   "pygments_lexer": "ipython3",
   "version": "3.7.0"
  }
 },
 "nbformat": 4,
 "nbformat_minor": 2
}
